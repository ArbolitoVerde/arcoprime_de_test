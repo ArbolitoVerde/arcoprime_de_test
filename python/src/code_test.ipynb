{
 "cells": [
  {
   "cell_type": "code",
   "execution_count": null,
   "metadata": {},
   "outputs": [],
   "source": [
    "class SequenceGen:\n",
    "\n",
    "    NUCLEOTIDOS = ['a', 'c', 'g', 't']\n",
    "\n",
    "    def __init__(self, sequence: str) -> None:\n",
    "        self.sequence = sequence.replace(\"\\n\",\"\")\n",
    "\n",
    "    @classmethod\n",
    "    def sequence_from_file(cls, file_path: str):\n",
    "        with open(file_path) as f:\n",
    "            sequence = f.read()\n",
    "            return cls(sequence.replace(\"\\n\",\"\"))\n",
    "        \n",
    "    def sequence_lenght(self) -> int:\n",
    "        return len(self.sequence)\n",
    "    \n",
    "    def nucleotido_counter(self) -> list:\n",
    "        output = []\n",
    "        for n in self.NUCLEOTIDOS:\n",
    "            quantity = self.sequence.count(n)\n",
    "            output.append((n, quantity))\n",
    "\n",
    "        return output\n"
   ]
  },
  {
   "cell_type": "code",
   "execution_count": null,
   "metadata": {},
   "outputs": [],
   "source": [
    "file_path = '/Users/seba/Documents/Data Engineering Development/Tech Interviews/arcoprime_de_test/python/data/sequence_dna'\n",
    "sequence = SequenceGen.sequence_from_file(file_path)\n",
    "\n",
    "print(sequence.sequence_lenght())\n",
    "print(sequence.nucleotido_counter())"
   ]
  }
 ],
 "metadata": {
  "kernelspec": {
   "display_name": "Python 3",
   "language": "python",
   "name": "python3"
  },
  "language_info": {
   "codemirror_mode": {
    "name": "ipython",
    "version": 3
   },
   "file_extension": ".py",
   "mimetype": "text/x-python",
   "name": "python",
   "nbconvert_exporter": "python",
   "pygments_lexer": "ipython3",
   "version": "3.9.6"
  }
 },
 "nbformat": 4,
 "nbformat_minor": 2
}
