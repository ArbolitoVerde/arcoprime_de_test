{
 "cells": [
  {
   "cell_type": "code",
   "execution_count": 58,
   "metadata": {},
   "outputs": [],
   "source": [
    "class SequenceGen:\n",
    "\n",
    "    NUCLEOTIDOS = ['a', 'c', 'g', 't']\n",
    "\n",
    "    def __init__(self, sequence: str) -> None:\n",
    "        self.sequence = sequence.replace(\"\\n\",\"\").lower()\n",
    "\n",
    "    @classmethod\n",
    "    def sequence_from_file(cls, file_path: str):\n",
    "        with open(file_path) as f:\n",
    "            sequence = f.read()\n",
    "            return cls(sequence.replace(\"\\n\",\"\").lower())\n",
    "        \n",
    "    def sequence_lenght(self) -> int:\n",
    "        return len(self.sequence)\n",
    "    \n",
    "    def nucleotido_counter(self) -> list:\n",
    "        output = []\n",
    "        for n in self.NUCLEOTIDOS:\n",
    "            quantity = self.sequence.count(n)\n",
    "            output.append((n, quantity))\n",
    "\n",
    "        return output\n",
    "    \n",
    "    def sub_sequence_counter(self, sub_sequence: str) -> int:\n",
    "        sub_sequence = sub_sequence.lower()\n",
    "        start_index = 0\n",
    "        end_index = len(sub_sequence)\n",
    "        count = 0\n",
    "\n",
    "        while end_index <= len(self.sequence):\n",
    "            if sub_sequence.lower() == self.sequence[start_index:end_index]:\n",
    "                count += 1\n",
    "                start_index += 1\n",
    "                end_index += 1\n",
    "            else:\n",
    "                start_index += 1\n",
    "                end_index += 1\n",
    "\n",
    "        return count\n"
   ]
  },
  {
   "cell_type": "code",
   "execution_count": 59,
   "metadata": {},
   "outputs": [
    {
     "name": "stdout",
     "output_type": "stream",
     "text": [
      "24530220\n",
      "[('a', 6132831), ('c', 6130034), ('g', 6134527), ('t', 6132828)]\n",
      "5883\n"
     ]
    }
   ],
   "source": [
    "file_path = '/Users/seba/Documents/Data Engineering Development/Tech Interviews/arcoprime_de_test/python/data/sequence_dna'\n",
    "sequence = SequenceGen.sequence_from_file(file_path)\n",
    "\n",
    "print(sequence.sequence_lenght())\n",
    "print(sequence.nucleotido_counter())\n",
    "print(sequence.sub_sequence_counter('TGCCAG'))"
   ]
  },
  {
   "cell_type": "code",
   "execution_count": null,
   "metadata": {},
   "outputs": [],
   "source": []
  }
 ],
 "metadata": {
  "kernelspec": {
   "display_name": "Python 3",
   "language": "python",
   "name": "python3"
  },
  "language_info": {
   "codemirror_mode": {
    "name": "ipython",
    "version": 3
   },
   "file_extension": ".py",
   "mimetype": "text/x-python",
   "name": "python",
   "nbconvert_exporter": "python",
   "pygments_lexer": "ipython3",
   "version": "3.9.6"
  }
 },
 "nbformat": 4,
 "nbformat_minor": 2
}
