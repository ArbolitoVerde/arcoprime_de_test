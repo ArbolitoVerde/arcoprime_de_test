{
 "cells": [
  {
   "cell_type": "code",
   "execution_count": null,
   "metadata": {},
   "outputs": [],
   "source": [
    "import time\n",
    "\n",
    "class SequenceGen:\n",
    "\n",
    "    NUCLEOTIDOS = ['a', 'c', 'g', 't']\n",
    "\n",
    "    def __init__(self, sequence: str) -> None:\n",
    "        self.sequence = sequence.replace(\"\\n\",\"\").lower()\n",
    "\n",
    "    @classmethod\n",
    "    def sequence_from_file(cls, file_path: str):\n",
    "        with open(file_path) as f:\n",
    "            sequence = f.read()\n",
    "            return cls(sequence.replace(\"\\n\",\"\").lower())\n",
    "        \n",
    "    def measure_execution_time(func):\n",
    "        def wrapper(*args, **kwargs):\n",
    "            start_time = time.perf_counter()\n",
    "            result = func(*args, **kwargs)\n",
    "            end_time = time.perf_counter()\n",
    "            execution_time = end_time - start_time\n",
    "            print(f\"Execution time for function {func.__name__} is {execution_time:.4f} seconds\")\n",
    "            return result\n",
    "        return wrapper\n",
    "\n",
    "    @measure_execution_time \n",
    "    def sequence_length(self) -> int:\n",
    "        return len(self.sequence)\n",
    "    \n",
    "    @measure_execution_time\n",
    "    def nucleotido_counter(self) -> list:\n",
    "        output = []\n",
    "        for n in self.NUCLEOTIDOS:\n",
    "            quantity = self.sequence.count(n)\n",
    "            output.append((n, quantity))\n",
    "\n",
    "        return output\n",
    "    \n",
    "    @measure_execution_time\n",
    "    def sub_sequence_counter(self, sub_sequence: str) -> int:\n",
    "        sub_sequence = sub_sequence.lower()\n",
    "        start_index = 0\n",
    "        end_index = len(sub_sequence)\n",
    "        count = 0\n",
    "\n",
    "        while end_index <= len(self.sequence):\n",
    "            if sub_sequence.lower() == self.sequence[start_index:end_index]:\n",
    "                count += 1\n",
    "                start_index += 1\n",
    "                end_index += 1\n",
    "            else:\n",
    "                start_index += 1\n",
    "                end_index += 1\n",
    "\n",
    "        return count\n"
   ]
  },
  {
   "cell_type": "code",
   "execution_count": null,
   "metadata": {},
   "outputs": [],
   "source": [
    "import os\n",
    "\n",
    "file_path = os.getcwd()[:len(os.getcwd())-4]+'/data/sequence_dna'\n",
    "sequence = SequenceGen.sequence_from_file(file_path)\n",
    "sub_sequence = 'TGCCAG'\n",
    "\n",
    "sequence_len = sequence.sequence_length()\n",
    "print(f\"The sequence length has {sequence_len} nucleotides \\n\")\n",
    "\n",
    "nucleotido_count = sequence.nucleotido_counter()\n",
    "print(f\"The sequence has the following resume by nucleotide {nucleotido_count} \\n\")\n",
    "\n",
    "sub_sequence_count = sequence.sub_sequence_counter(sub_sequence)\n",
    "print(f\"The sequence contains the subsequence {sub_sequence} {sub_sequence_count} times\\n\")\n"
   ]
  },
  {
   "cell_type": "code",
   "execution_count": null,
   "metadata": {},
   "outputs": [],
   "source": []
  }
 ],
 "metadata": {
  "kernelspec": {
   "display_name": "Python 3",
   "language": "python",
   "name": "python3"
  },
  "language_info": {
   "codemirror_mode": {
    "name": "ipython",
    "version": 3
   },
   "file_extension": ".py",
   "mimetype": "text/x-python",
   "name": "python",
   "nbconvert_exporter": "python",
   "pygments_lexer": "ipython3",
   "version": "3.9.6"
  }
 },
 "nbformat": 4,
 "nbformat_minor": 2
}
